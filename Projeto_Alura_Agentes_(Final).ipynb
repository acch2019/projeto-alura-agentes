{
  "nbformat": 4,
  "nbformat_minor": 0,
  "metadata": {
    "colab": {
      "provenance": []
    },
    "kernelspec": {
      "name": "python3",
      "display_name": "Python 3"
    },
    "language_info": {
      "name": "python"
    }
  },
  "cells": [
    {
      "cell_type": "code",
      "source": [
        "%pip -q install google-genai"
      ],
      "metadata": {
        "id": "UCCbECexLk_h"
      },
      "execution_count": 1,
      "outputs": []
    },
    {
      "cell_type": "code",
      "source": [
        "# Configura a API Key do Google Gemini\n",
        "\n",
        "import os\n",
        "from google.colab import userdata\n",
        "\n",
        "os.environ[\"GOOGLE_API_KEY\"] = userdata.get('GOOGLE_API_KEY')"
      ],
      "metadata": {
        "id": "NfCqHo1tLk8P"
      },
      "execution_count": 2,
      "outputs": []
    },
    {
      "cell_type": "code",
      "source": [
        "# Configura o cliente da SDK do Gemini\n",
        "\n",
        "from google import genai\n",
        "\n",
        "client = genai.Client()\n",
        "\n",
        "MODEL_ID = \"gemini-2.0-flash\""
      ],
      "metadata": {
        "id": "bV4w0H5TLk5g"
      },
      "execution_count": 3,
      "outputs": []
    },
    {
      "cell_type": "code",
      "source": [
        "# Instalar Framework de agentes do Google ################################################\n",
        "!pip install -q google-adk"
      ],
      "metadata": {
        "colab": {
          "base_uri": "https://localhost:8080/"
        },
        "id": "a1eRPalxEnj7",
        "outputId": "d4a70b48-0df4-4350-8411-4c90204c6281"
      },
      "execution_count": 4,
      "outputs": [
        {
          "output_type": "stream",
          "name": "stdout",
          "text": [
            "\u001b[2K   \u001b[90m━━━━━━━━━━━━━━━━━━━━━━━━━━━━━━━━━━━━━━━━\u001b[0m \u001b[32m1.2/1.2 MB\u001b[0m \u001b[31m17.3 MB/s\u001b[0m eta \u001b[36m0:00:00\u001b[0m\n",
            "\u001b[2K   \u001b[90m━━━━━━━━━━━━━━━━━━━━━━━━━━━━━━━━━━━━━━━━\u001b[0m \u001b[32m232.1/232.1 kB\u001b[0m \u001b[31m11.1 MB/s\u001b[0m eta \u001b[36m0:00:00\u001b[0m\n",
            "\u001b[2K   \u001b[90m━━━━━━━━━━━━━━━━━━━━━━━━━━━━━━━━━━━━━━━━\u001b[0m \u001b[32m95.2/95.2 kB\u001b[0m \u001b[31m5.0 MB/s\u001b[0m eta \u001b[36m0:00:00\u001b[0m\n",
            "\u001b[2K   \u001b[90m━━━━━━━━━━━━━━━━━━━━━━━━━━━━━━━━━━━━━━━━\u001b[0m \u001b[32m217.1/217.1 kB\u001b[0m \u001b[31m10.8 MB/s\u001b[0m eta \u001b[36m0:00:00\u001b[0m\n",
            "\u001b[2K   \u001b[90m━━━━━━━━━━━━━━━━━━━━━━━━━━━━━━━━━━━━━━━━\u001b[0m \u001b[32m334.1/334.1 kB\u001b[0m \u001b[31m16.2 MB/s\u001b[0m eta \u001b[36m0:00:00\u001b[0m\n",
            "\u001b[2K   \u001b[90m━━━━━━━━━━━━━━━━━━━━━━━━━━━━━━━━━━━━━━━━\u001b[0m \u001b[32m125.1/125.1 kB\u001b[0m \u001b[31m6.8 MB/s\u001b[0m eta \u001b[36m0:00:00\u001b[0m\n",
            "\u001b[2K   \u001b[90m━━━━━━━━━━━━━━━━━━━━━━━━━━━━━━━━━━━━━━━━\u001b[0m \u001b[32m65.8/65.8 kB\u001b[0m \u001b[31m3.0 MB/s\u001b[0m eta \u001b[36m0:00:00\u001b[0m\n",
            "\u001b[2K   \u001b[90m━━━━━━━━━━━━━━━━━━━━━━━━━━━━━━━━━━━━━━━━\u001b[0m \u001b[32m119.0/119.0 kB\u001b[0m \u001b[31m3.5 MB/s\u001b[0m eta \u001b[36m0:00:00\u001b[0m\n",
            "\u001b[2K   \u001b[90m━━━━━━━━━━━━━━━━━━━━━━━━━━━━━━━━━━━━━━━━\u001b[0m \u001b[32m194.9/194.9 kB\u001b[0m \u001b[31m7.0 MB/s\u001b[0m eta \u001b[36m0:00:00\u001b[0m\n",
            "\u001b[2K   \u001b[90m━━━━━━━━━━━━━━━━━━━━━━━━━━━━━━━━━━━━━━━━\u001b[0m \u001b[32m62.5/62.5 kB\u001b[0m \u001b[31m2.1 MB/s\u001b[0m eta \u001b[36m0:00:00\u001b[0m\n",
            "\u001b[2K   \u001b[90m━━━━━━━━━━━━━━━━━━━━━━━━━━━━━━━━━━━━━━━━\u001b[0m \u001b[32m103.3/103.3 kB\u001b[0m \u001b[31m3.5 MB/s\u001b[0m eta \u001b[36m0:00:00\u001b[0m\n",
            "\u001b[2K   \u001b[90m━━━━━━━━━━━━━━━━━━━━━━━━━━━━━━━━━━━━━━━━\u001b[0m \u001b[32m44.4/44.4 kB\u001b[0m \u001b[31m1.6 MB/s\u001b[0m eta \u001b[36m0:00:00\u001b[0m\n",
            "\u001b[2K   \u001b[90m━━━━━━━━━━━━━━━━━━━━━━━━━━━━━━━━━━━━━━━━\u001b[0m \u001b[32m72.0/72.0 kB\u001b[0m \u001b[31m1.7 MB/s\u001b[0m eta \u001b[36m0:00:00\u001b[0m\n",
            "\u001b[?25h"
          ]
        }
      ]
    },
    {
      "cell_type": "code",
      "execution_count": 5,
      "metadata": {
        "id": "aePV2bdfDeoW"
      },
      "outputs": [],
      "source": [
        "from google.adk.agents import Agent\n",
        "from google.adk.runners import Runner\n",
        "from google.adk.sessions import InMemorySessionService\n",
        "from google.adk.tools import google_search\n",
        "from google.genai import types  # Para criar conteúdos (Content e Part)\n",
        "from datetime import date\n",
        "import textwrap # Para formatar melhor a saída de texto\n",
        "from IPython.display import HTML, display, Markdown # Para exibir texto formatado no Colab\n",
        "import requests # Para fazer requisições HTTP\n",
        "import warnings\n",
        "\n",
        "warnings.filterwarnings(\"ignore\")"
      ]
    },
    {
      "cell_type": "code",
      "source": [
        "# Função auxiliar que envia uma mensagem para um agente via Runner e retorna a resposta final\n",
        "def call_agent(agent: Agent, message_text: str) -> str:\n",
        "    # Cria um serviço de sessão em memória\n",
        "    session_service = InMemorySessionService()\n",
        "    # Cria uma nova sessão (você pode personalizar os IDs conforme necessário)\n",
        "    session = session_service.create_session(app_name=agent.name, user_id=\"user1\", session_id=\"session1\")\n",
        "    # Cria um Runner para o agente\n",
        "    runner = Runner(agent=agent, app_name=agent.name, session_service=session_service)\n",
        "    # Cria o conteúdo da mensagem de entrada\n",
        "    content = types.Content(role=\"user\", parts=[types.Part(text=message_text)])\n",
        "\n",
        "    final_response = \"\"\n",
        "    # Itera assincronamente pelos eventos retornados durante a execução do agente\n",
        "    for event in runner.run(user_id=\"user1\", session_id=\"session1\", new_message=content):\n",
        "        if event.is_final_response():\n",
        "          for part in event.content.parts:\n",
        "            if part.text is not None:\n",
        "              final_response += part.text\n",
        "              final_response += \"\\n\"\n",
        "    return final_response"
      ],
      "metadata": {
        "id": "_xP4lWhsS5ko"
      },
      "execution_count": 6,
      "outputs": []
    },
    {
      "cell_type": "code",
      "source": [
        "# Função auxiliar para exibir texto formatado em Markdown no Colab\n",
        "def to_markdown(text):\n",
        "  text = text.replace('•', '  *')\n",
        "  return Markdown(textwrap.indent(text, '> ', predicate=lambda _: True))"
      ],
      "metadata": {
        "id": "8dosiodaxfFR"
      },
      "execution_count": 7,
      "outputs": []
    },
    {
      "cell_type": "code",
      "source": [
        "################################################\n",
        "# --- Agente 1: Padronizador de currículos --- #\n",
        "################################################\n",
        "def agente_padrao(curriculo):\n",
        "\n",
        "    padrao = Agent(\n",
        "        name=\"agente_padrao\",\n",
        "        model=\"gemini-2.0-flash\",\n",
        "        instruction=\"\"\"\n",
        "        Você é um especialista em extração de informações de currículos. Sua tarefa é ler o texto de um currículo e extrair dele as seguintes informações, apresentando-as de forma clara e organizada em texto simples:\n",
        "\n",
        "        1.  **Nome Completo:** O nome completo do candidato.\n",
        "            * Exemplo: João da Silva\n",
        "            * Exemplo: Maria Oliveira Santos\n",
        "\n",
        "        2.  **Email:** O endereço de email do candidato.\n",
        "            * Exemplo: joao.silva@email.com\n",
        "            * Exemplo: maria.santos@exemplo.br\n",
        "            * Formato esperado: Deve conter o símbolo \"@\" e um domínio.\n",
        "\n",
        "        3.  **Telefone:** O número de telefone do candidato.\n",
        "            * Exemplo: (11) 99999-9999\n",
        "            * Exemplo: +55 21 1234-5678\n",
        "            * Formato esperado: Incluir DDD e, se possível, DDI.\n",
        "\n",
        "        4.  **Formação Acadêmica:** Uma lista da formação acadêmica do candidato. Para cada formação, inclua:\n",
        "            * Curso: O nome do curso.\n",
        "            * Instituição: O nome da instituição.\n",
        "            * Data de Início: A data de início do curso.\n",
        "            * Data de Conclusão: A data de conclusão do curso.\n",
        "            * Exemplo:\n",
        "            * Curso: Bacharel em Ciência da Computação\n",
        "            * Instituição: Universidade Federal de São Paulo\n",
        "            * Data de Início: 01/2018\n",
        "            * Data de Conclusão: 12/2022\n",
        "\n",
        "        5.  **Experiência Profissional:** Uma lista da experiência profissional do candidato. Para cada emprego, inclua:\n",
        "            * Empresa: O nome da empresa.\n",
        "            * Cargo: O cargo ocupado.\n",
        "            * Data de Início: A data de início do emprego.\n",
        "            * Data de Conclusão: A data de conclusão do emprego.\n",
        "            * Descrição das Atividades: Um breve resumo das responsabilidades e atividades desempenhadas.\n",
        "            * Exemplo:\n",
        "            * Empresa: Empresa X\n",
        "            * Cargo: Desenvolvedor Python\n",
        "            * Data de Início: 01/2023\n",
        "            * Data de Conclusão: Presente\n",
        "            * Descrição das Atividades: Desenvolvimento de aplicações web com Django e Flask.\n",
        "\n",
        "        6.  **Habilidades:** Uma lista das habilidades técnicas e não técnicas do candidato.\n",
        "            * Exemplo: Python, Java, Comunicação, Liderança\n",
        "\n",
        "        Instruções Adicionais:\n",
        "            * Se uma informação não estiver presente no texto, indique como \"Não encontrado\".\n",
        "            * Tente inferir as informações mesmo que elas não estejam exatamente no formato especificado.\n",
        "            * Se houver ambiguidades, priorize a informação que parecer mais provável ou mais completa.\n",
        "\n",
        "        \"\"\",\n",
        "        description=\"Agente que padroniza os currículos\",\n",
        "        #tools=[google_search]\n",
        "    )\n",
        "\n",
        "    entrada_do_agente_padrao = f\"Curriculo: {curriculo}\"\n",
        "\n",
        "    padronizado = call_agent(padrao, entrada_do_agente_padrao)\n",
        "    return padronizado"
      ],
      "metadata": {
        "id": "o8bqIfi_DyH8"
      },
      "execution_count": 8,
      "outputs": []
    },
    {
      "cell_type": "code",
      "source": [
        "#############################################\n",
        "# --- Agente 2: Validador de Curriculos --- #\n",
        "#############################################\n",
        "\n",
        "def agente_validador(areas_interesse, padronizado):\n",
        "    validador = Agent(\n",
        "        name=\"agente_validador\",\n",
        "        model=\"gemini-2.0-flash\",\n",
        "        instruction=f\"\"\"\n",
        "        Você é um validador de habilidades de currículos. Sua tarefa é receber uma lista de habilidades extraídas\n",
        "        de um currículo e avaliar a relevância de cada habilidade para as seguintes áreas de interesse:{', '.join(areas_interesse)}\n",
        "\n",
        "        Uma habilidade é considerada relevante para uma área se ela é comumente utilizada ou necessária para desempenhar funções nessa área.\n",
        "\n",
        "        Para cada habilidade na lista, forneça a seguinte avaliação:\n",
        "\n",
        "        -   Habilidade: [Nome da Habilidade]\n",
        "        -   Áreas de Relevância: [Lista das áreas para as quais a habilidade é relevante]\n",
        "        -   Nível de Relevância: [Opcional: Alta, Média ou Baixa - se você quiser detalhar]\n",
        "\n",
        "        Instruções Adicionais:\n",
        "\n",
        "        -   Se uma habilidade for relevante para várias áreas, liste todas as áreas relevantes.\n",
        "        -   Se uma habilidade for muito genérica (por exemplo, \"Comunicação\"), avalie sua relevância no contexto das outras habilidades listadas e das áreas de interesse.\n",
        "        -   Se você não tiver certeza sobre a relevância de uma habilidade, indique \"Relevância Incerta\".\n",
        "        -   Use ferramenta de busca do google (google_search) para pesquisar na web informações sobre a relevância de uma habilidade para uma área específica.\n",
        "        \"\"\",\n",
        "        description=\"Agente que valida curriculos\",\n",
        "        tools=[google_search]\n",
        "    )\n",
        "\n",
        "\n",
        "\n",
        "    entrada_do_agente_validador = f\"Áreas de interesse:{areas_interesse}\\nCurriculo Padronizado: {padronizado}\"\n",
        "    # Executa o agente\n",
        "    validado = call_agent(validador, entrada_do_agente_validador)\n",
        "    return validado"
      ],
      "metadata": {
        "id": "y3VO1uo5_ghO"
      },
      "execution_count": 13,
      "outputs": []
    },
    {
      "cell_type": "code",
      "source": [
        "##############################################\n",
        "# --- Agente 3: Assistente de entrevista --- #\n",
        "##############################################\n",
        "def agente_assist(areas_interesse, validado):\n",
        "    assist = Agent(\n",
        "        name=\"agente_assist\",\n",
        "        model=\"gemini-2.0-flash\",\n",
        "        instruction=f\"\"\"\n",
        "            Você é um assistente de recrutamento. Sua tarefa é receber o texto de um currículo e gerar duas saídas: um resumo do currículo para guiar\n",
        "            o entrevistador e sugestões de perguntas relevantes para a entrevista.\n",
        "\n",
        "            **1. Resumo do Currículo:**\n",
        "            Gere um resumo conciso e objetivo das informações mais relevantes do currículo para o processo de seleção. O objetivo do resumo é fornecer uma visão geral rápida das qualificações do candidato.\n",
        "            O resumo deve incluir:\n",
        "              -   Experiência profissional relevante para as áreas de interesse da vaga {', '.join(areas_interesse)}.\n",
        "              -   Formação acadêmica relevante.\n",
        "              -   Habilidades-chave destacadas no currículo.\n",
        "              -   Projetos ou realizações relevantes (se houver).\n",
        "            Adapte o resumo às áreas de interesse da vaga. O resumo deve ter no máximo 5-7 frases.\n",
        "\n",
        "            **2. Sugestões de Perguntas para Entrevista:**\n",
        "            Gere uma lista de perguntas relevantes para a entrevista com o candidato, baseadas nas informações do currículo. O objetivo das perguntas é avaliar as competências, a experiência e a adequação do candidato à vaga.\n",
        "            As perguntas devem ser:\n",
        "              -   Específicas e que permitam obter exemplos de situações passadas (perguntas comportamentais).\n",
        "              -   Focadas em explorar áreas como experiência em projetos, habilidades técnicas, trabalho em equipe, resolução de problemas, comunicação e liderança (se aplicável).\n",
        "              -   Relevantes para as áreas de interesse da vaga {', '.join(areas_interesse)}.\n",
        "\n",
        "            Gere entre 5 e 10 perguntas.\n",
        "            Formate a saída em texto simples, com duas seções separadas: \"Resumo do Currículo\" e \"Sugestões de Perguntas para Entrevista\".\n",
        "\n",
        "            \"\"\",\n",
        "        description=\"Agente que elabora um resumo do candidato para o entrevistador e sugestões de pergunta para entrevista\"\n",
        "    )\n",
        "    entrada_do_agente_assist = f\"Áreas de interesse: {areas_interesse}\\nPlano de post: {validado}\"\n",
        "    # Executa o agente\n",
        "    entrevista = call_agent(assist, entrada_do_agente_assist)\n",
        "    return entrevista"
      ],
      "metadata": {
        "id": "uOqlg2TRLVh1"
      },
      "execution_count": 16,
      "outputs": []
    },
    {
      "cell_type": "code",
      "source": [
        "# Define as áreas de interesse\n",
        "areas_interesse = [\"elétrica\", \"eletrônica\", \"marketing\", \"vendas\", \"desenvolvimento de software\"]\n",
        "\n",
        "#data_de_hoje = date.today().strftime(\"%d/%m/%Y\")\n",
        "\n",
        "print(\"🚀 Iniciando o Sistema de auxílio em entrevistas 🚀\")\n",
        "\n",
        "# --- Obter o Currículo ---\n",
        "curriculo = input(\"❓ Por favor, copie e cole o currículo aqui: \")\n",
        "\n",
        "# Inserir lógica do sistema de agentes ################################################\n",
        "if not curriculo:\n",
        "    print(\"Você não colou o currículo!\")\n",
        "else:\n",
        "    print(f\"Maravilha! Vamos categorizar verificar o currículo de acordo com as áreas de interesse: {areas_interesse}\")\n",
        "\n",
        "    padronizado = agente_padrao(curriculo)\n",
        "    print(\"\\n--- 📝 Resultado do Agente 1 (Padronizador) ---\\n\")\n",
        "    display(to_markdown(padronizado))\n",
        "    print(\"--------------------------------------------------------------\")\n",
        "\n",
        "    validado = agente_validador(areas_interesse, padronizado)\n",
        "    print(\"\\n--- 📝 Resultado do Agente 2 (validador) ---\\n\")\n",
        "    display(to_markdown(validado))\n",
        "    print(\"--------------------------------------------------------------\")\n",
        "\n",
        "    entrevista = agente_assist(areas_interesse, validado)\n",
        "    print(\"\\n--- 📝 Resultado do Agente 3 (Assistente de entrevista) ---\\n\")\n",
        "    display(to_markdown(entrevista))\n",
        "    print(\"--------------------------------------------------------------\")\n"
      ],
      "metadata": {
        "colab": {
          "base_uri": "https://localhost:8080/",
          "height": 1000
        },
        "id": "6xzI6LKzxxnN",
        "outputId": "b24c1b20-8316-40ab-ee89-e5b90c2aa0e1"
      },
      "execution_count": 19,
      "outputs": [
        {
          "output_type": "stream",
          "name": "stdout",
          "text": [
            "🚀 Iniciando o Sistema de auxílio em entrevistas 🚀\n",
            "❓ Por favor, copie e cole o currículo aqui: vance rey v.rey@live.com | (716) 555-0100 | www.linkedin.com/in/v.rey  4567 Main St Buffalo, New York 98052  perfil Jovem profissional organizado, dedicado e ambicioso, com uma excelente atenção aos detalhes, e com muita vontade de aprender interessando-se em trabalhar em conjunto com advogados experientes e contribuir para o sucesso de uma banca de advogados. Oferecendo um diploma em estudos paralegais e mais de quatro anos de experiência profissional em suporte jurídico e pesquisa jurídica, buscando um cargo de Paralegal iniciante em uma banca de advogados de médio porte.  Experiência Presente em – setembro de 2016\tEstagiário Paralegal, Wingtip Law Firm PC Oferecer suporte paralegal aos funcionários seniores com pesquisa legal e gestão de documentos em preparação para julgamentos civis e criminais. para julgamentos. Agendamento e condução de entrevistas com clientes, testemunhas e advogados em preparação aos depoimentos e julgamento. Suporte administrativo, incluindo gerenciamento de banco de dados e arquivo, atendimento telefônico e tarefas gerais de escritório junho de 2014 – agosto de 2016\tAssessor Jurídico, XYZ Law LLC Preparação e gestão de documentos jurídicos. Tarefas administrativas e agendamento para sócios seniores. Coordenação de conferências e reuniões entre advogados e entre advogados e clientes atuais e potenciais. Gestão do principal calendário da empresa educação Bellows Community College, Tin, Texas Junho de 2014: Bacharel em Estudos Paralegais Junho de 2012: Tecnólogo em Estudos Paralegais Paralegal Certificado e Registrado, Federação Nacional das Associações de Paralegais principais habilidades e características     • Pensamento Crítico     • Suporta Pressão     • Liderança     • Solução de Problemas\t    • Microsoft Office Suite     • LexisNexis & Westlaw     • Velocidade de Digitação 90 PPM     • Adaptabilidade atividades e interesses Literatura, conservação ambiental, artes, yoga, esqui, viagem \n",
            "Maravilha! Vamos categorizar verificar o currículo de acordo com as áreas de interesse: ['elétrica', 'eletrônica', 'marketing', 'vendas', 'desenvolvimento de software']\n",
            "\n",
            "--- 📝 Resultado do Agente 1 (Padronizador) ---\n",
            "\n"
          ]
        },
        {
          "output_type": "display_data",
          "data": {
            "text/plain": [
              "<IPython.core.display.Markdown object>"
            ],
            "text/markdown": "> ```text\n>  1. **Nome Completo:** Vance Rey\n>  \n> \n>  2. **Email:** v.rey@live.com\n>  \n> \n>  3. **Telefone:** (716) 555-0100\n>  \n> \n>  4. **Formação Acadêmica:**\n>   * Curso: Bacharel em Estudos Paralegais\n>   * Instituição: Bellows Community College\n>   * Data de Início: Não encontrado\n>   * Data de Conclusão: Junho de 2014\n>  \n> \n>   * Curso: Tecnólogo em Estudos Paralegais\n>   * Instituição: Bellows Community College\n>   * Data de Início: Não encontrado\n>   * Data de Conclusão: Junho de 2012\n>  \n> \n>  5. **Experiência Profissional:**\n>   * Empresa: Wingtip Law Firm PC\n>   * Cargo: Estagiário Paralegal\n>   * Data de Início: Setembro de 2016\n>   * Data de Conclusão: Presente\n>   * Descrição das Atividades: Oferecer suporte paralegal aos funcionários seniores com pesquisa legal e gestão de documentos em preparação para julgamentos civis e criminais. Agendamento e condução de entrevistas com clientes, testemunhas e advogados em preparação aos depoimentos e julgamento. Suporte administrativo, incluindo gerenciamento de banco de dados e arquivo, atendimento telefônico e tarefas gerais de escritório.\n>  \n> \n>   * Empresa: XYZ Law LLC\n>   * Cargo: Assessor Jurídico\n>   * Data de Início: Junho de 2014\n>   * Data de Conclusão: Agosto de 2016\n>   * Descrição das Atividades: Preparação e gestão de documentos jurídicos. Tarefas administrativas e agendamento para sócios seniores. Coordenação de conferências e reuniões entre advogados e entre advogados e clientes atuais e potenciais. Gestão do principal calendário da empresa.\n>  \n> \n>  6. **Habilidades:**\n>   * Pensamento Crítico\n>   * Suporta Pressão\n>   * Liderança\n>   * Solução de Problemas\n>   * Microsoft Office Suite\n>   * LexisNexis & Westlaw\n>   * Velocidade de Digitação 90 PPM\n>   * Adaptabilidade\n>  ```\n"
          },
          "metadata": {}
        },
        {
          "output_type": "stream",
          "name": "stdout",
          "text": [
            "--------------------------------------------------------------\n",
            "\n",
            "--- 📝 Resultado do Agente 2 (validador) ---\n",
            "\n"
          ]
        },
        {
          "output_type": "display_data",
          "data": {
            "text/plain": [
              "<IPython.core.display.Markdown object>"
            ],
            "text/markdown": "> Aqui está a avaliação das habilidades listadas no currículo, com foco na relevância para as áreas de interesse especificadas:\n> \n>  *elétrica, eletrônica, marketing, vendas, desenvolvimento de software*\n> \n>  **Habilidades:**\n> \n>  *   **Habilidade:** Pensamento Crítico\n>  *   **Áreas de Relevância:** Desenvolvimento de Software, Vendas (em menor grau).\n>  *   **Nível de Relevância:** Médio.\n>  *   **Habilidade:** Suportar Pressão\n>  *   **Áreas de Relevância:** Vendas, Desenvolvimento de Software.\n>  *   **Nível de Relevância:** Médio.\n>  *   **Habilidade:** Liderança\n>  *   **Áreas de Relevância:** Todas as áreas (em diferentes contextos).\n>  *   **Nível de Relevância:** Baixo\n>  *   **Habilidade:** Solução de Problemas\n>  *   **Áreas de Relevância:** Eletrônica, Desenvolvimento de Software, Elétrica.\n>  *   **Nível de Relevância:** Alto\n>  *   **Habilidade:** Microsoft Office Suite\n>  *   **Áreas de Relevância:** Marketing, Vendas.\n>  *   **Nível de Relevância:** Médio.\n>  *   **Habilidade:** LexisNexis & Westlaw\n>  *   **Áreas de Relevância:** Nenhuma.\n>  *   **Nível de Relevância:** Irrelevante\n>  *   **Habilidade:** Velocidade de Digitação 90 PPM\n>  *   **Áreas de Relevância:** Nenhuma.\n>  *   **Nível de Relevância:** Irrelevante\n>  *   **Habilidade:** Adaptabilidade\n>  *   **Áreas de Relevância:** Todas as áreas\n>  *   **Nível de Relevância:** Médio\n> \n>  Espero que esta avaliação seja útil.\n"
          },
          "metadata": {}
        },
        {
          "output_type": "stream",
          "name": "stdout",
          "text": [
            "--------------------------------------------------------------\n",
            "\n",
            "--- 📝 Resultado do Agente 3 (Assistente de entrevista) ---\n",
            "\n"
          ]
        },
        {
          "output_type": "display_data",
          "data": {
            "text/plain": [
              "<IPython.core.display.Markdown object>"
            ],
            "text/markdown": "> **Resumo do Currículo**\n> \n> O candidato possui habilidades de pensamento crítico e adaptabilidade, relevantes para diversas áreas. Demonstra capacidade de resolução de problemas, com maior aplicabilidade em eletrônica, desenvolvimento de software e elétrica. Sua experiência com Microsoft Office Suite pode ser útil em marketing e vendas. Habilidades de liderança e capacidade de suportar pressão são relevantes em todas as áreas, embora em diferentes contextos.\n> \n> **Sugestões de Perguntas para Entrevista**\n> \n> 1.  Pode dar um exemplo de uma situação em que você aplicou seu pensamento crítico para resolver um problema complexo em um projeto de desenvolvimento de software?\n> 2.  Descreva uma situação de alta pressão no trabalho e como você lidou com ela para atingir seus objetivos.\n> 3.  Compartilhe uma experiência em que suas habilidades de resolução de problemas foram cruciais para superar um desafio em um projeto de eletrônica ou elétrica.\n> 4.  Como você se adapta a novas tecnologias ou mudanças de requisitos em projetos de desenvolvimento de software?\n> 5.  Dê um exemplo de como você usou o Microsoft Office Suite para otimizar suas atividades em um projeto de marketing ou vendas.\n> 6.  Descreva uma situação em que você precisou liderar uma equipe em um ambiente desafiador. Quais foram os resultados?\n> \n"
          },
          "metadata": {}
        },
        {
          "output_type": "stream",
          "name": "stdout",
          "text": [
            "--------------------------------------------------------------\n"
          ]
        }
      ]
    }
  ]
}